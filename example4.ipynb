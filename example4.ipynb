{
 "cells": [
  {
   "cell_type": "markdown",
   "metadata": {},
   "source": [
    "# Example 4\n",
    "\n",
    "- The k-out-of-n system\n",
    "    - The system consists of $n$ **non-identical** compoments.\n",
    "    - The system fails when $k$ compoments are down.\n",
    "- Repairable system\n",
    "    - A failed compoment may be repaired.\n",
    "    - The repaired component is as good as new.\n",
    "- Repairperson\n",
    "    - Failed components are repaired by a single repairperson.\n",
    "    - A failed component makes a queue with **a random** discipline\n",
    "- The failure time of **i-th component** follows an exponential distribution with mean $1/\\lambda_i$.\n",
    "- The repair time for a failed component follows **a deterministic time**."
   ]
  },
  {
   "cell_type": "markdown",
   "metadata": {},
   "source": [
    "## Initialize\n",
    "\n",
    "Load packages"
   ]
  },
  {
   "cell_type": "code",
   "execution_count": null,
   "metadata": {},
   "outputs": [],
   "source": [
    "using Origin\n",
    "using SparseMatrix\n",
    "using NMarkov\n",
    "using JuliaDot\n",
    "using SparseArrays\n",
    "using Plots\n",
    "using MAT\n",
    "using JSON\n",
    "using Distributions\n",
    "using Random"
   ]
  },
  {
   "cell_type": "code",
   "execution_count": null,
   "metadata": {},
   "outputs": [],
   "source": [
    "# utility functions\n",
    "\n",
    "function drawfile(x)\n",
    "    data = open(x) do f\n",
    "        read(f, String)\n",
    "    end\n",
    "    draw(data) # JuliaDot.draw\n",
    "end\n",
    "\n",
    "import NMarkov.eye\n",
    "function eye(M::AbstractMatrix)\n",
    "    eye(size(M)[1])\n",
    "end\n",
    "\n",
    "function speye(M::AbstractMatrix)\n",
    "    n = size(M)[1]\n",
    "    x = [i for i = 1:n]\n",
    "    v = [1.0 for i = 1:n]\n",
    "    sparse(x, x, v)\n",
    "end"
   ]
  },
  {
   "cell_type": "markdown",
   "metadata": {},
   "source": [
    "## Build the model with SPN\n",
    "\n",
    "1. Make the SPN definition file (reliab3.spn)\n",
    "1. Draw a diagram of SPN\n",
    "1. Check the model behavior with one simulation"
   ]
  },
  {
   "cell_type": "markdown",
   "metadata": {},
   "source": [
    "### Draw a petrinet diagram"
   ]
  },
  {
   "cell_type": "code",
   "execution_count": null,
   "metadata": {},
   "outputs": [],
   "source": [
    "# generate a dot file to draw PN with gospn\n",
    "run(`./gospn view -i reliab3.spn -o tmp.dot`)\n",
    "# draw a picture with the dot file\n",
    "drawfile(\"tmp.dot\")"
   ]
  },
  {
   "cell_type": "markdown",
   "metadata": {},
   "source": [
    "### Check the model behavior"
   ]
  },
  {
   "cell_type": "code",
   "execution_count": null,
   "metadata": {},
   "outputs": [],
   "source": [
    "# set model params\n",
    "rng = MersenneTwister(1234)\n",
    "lambda = rand(rng, Uniform(0.01, 0.02), 10)\n",
    "mu = 1.0\n",
    "paramstring = join([\"lambda$i = $(lambda[i]); \" for i = 1:10]) * \"mu = $mu;\""
   ]
  },
  {
   "cell_type": "code",
   "execution_count": null,
   "metadata": {},
   "outputs": [],
   "source": [
    "# test the SPN model to check 30 transitions from the initial marking\n",
    "run(`./gospn test -i reliab3.spn -n 30 -p \"$paramstring\"`)"
   ]
  },
  {
   "cell_type": "markdown",
   "metadata": {},
   "source": [
    "## Construct CTMC matrices\n",
    "\n",
    "1. Analyze SPN and generate the following files\n",
    "    - A Matlab matrix file to store matrices (option: -o)\n",
    "    - A dot file to draw the marking graph (reachability graph). In the case where SPN generates a large number of states, it is better not to generate this file (option: -m)\n",
    "    - A dot file to draw the transitions between marking groups (option: -g)\n",
    "2. Construct CTMC matrices from the matrix file and a diagrm of marking group"
   ]
  },
  {
   "cell_type": "markdown",
   "metadata": {},
   "source": [
    "### Generate the marking graph"
   ]
  },
  {
   "cell_type": "code",
   "execution_count": null,
   "metadata": {},
   "outputs": [],
   "source": [
    "# generate CTMC matricies, dot files for marking and group\n",
    "run(`./gospn mark -i reliab3.spn -o result.mat -g gmark.dot -p \"$paramstring\"`)\n",
    "# read CTMC matrices\n",
    "matfile = matopen(\"result.mat\") \n",
    "# draw a picture of groups of markings\n",
    "drawfile(\"gmark.dot\")"
   ]
  },
  {
   "cell_type": "code",
   "execution_count": null,
   "metadata": {},
   "outputs": [],
   "source": [
    "# Read matrices\n",
    "G0G0E = read(matfile, \"G0G0E\")\n",
    "G0G1E = read(matfile, \"G0G1E\")\n",
    "G1G1E = read(matfile, \"G1G1E\")\n",
    "G1I0P0 = read(matfile, \"G1I0P0\")\n",
    "G1I1P0 = read(matfile, \"G1I1P0\")\n",
    "I0G0I = read(matfile, \"I0G0I\")\n",
    "I1G1I = read(matfile, \"I1G1I\");"
   ]
  },
  {
   "cell_type": "markdown",
   "metadata": {},
   "source": [
    "## Compute reliability measures\n",
    "- Steady-state analysis for Markov Regenerative Process (MRGP)\n",
    "    1. Construct a probability transitionn matrix of the embedded Markov chain (EMC) at instance when exiting form any groups\n",
    "    2. Compute the steady-state probability vector of the EMC\n",
    "    3. Compute the expected sojourn time for one transition of EMC\n",
    "    4. Compute the steady-state probability of MRGP from the time franction of expected sojourn time\n",
    "    5. Compute the steady-state reward by multiplying the steady-state probability vector with a reward vector"
   ]
  },
  {
   "cell_type": "code",
   "execution_count": null,
   "metadata": {},
   "outputs": [],
   "source": [
    "# Make EMC\n",
    "\n",
    "## Matrix on time instant of the end of state\n",
    "V0 = -G0G0E \\ eye(G0G0E)\n",
    "V1, V1c = mexpc(G1G1E, eye(G1G1E), 1/mu) # constant distribution\n",
    "\n",
    "# indicies when all states are concatinated [V0, V1]\n",
    "tmp = [size(x)[1] for x = [V0, V1]]\n",
    "start = 1\n",
    "indices = []\n",
    "for x = tmp\n",
    "    push!(indices, start:start+x-1)\n",
    "    start += x\n",
    "end\n",
    "\n",
    "## Transition probability matrices for EMC.\n",
    "## This is constucted by the groupmark graph\n",
    "P = spzeros(AbstractMatrix{Float64}, 2, 2) # blockmatrix\n",
    "@origin P=>0 begin\n",
    "    P[0,1] = V0 * G0G1E\n",
    "    P[1,0] = V1 * G1I0P0 * I0G0I\n",
    "    P[1,1] = V1 * G1I1P0 * I1G1I\n",
    "end\n",
    "P=sparse(block(P));"
   ]
  },
  {
   "cell_type": "code",
   "execution_count": null,
   "metadata": {},
   "outputs": [],
   "source": [
    "# stationary vector for EMC\n",
    "pid = gth(Matrix(P));"
   ]
  },
  {
   "cell_type": "code",
   "execution_count": null,
   "metadata": {},
   "outputs": [],
   "source": [
    "# sojourn time & stationary distribution\n",
    "S = spzeros(AbstractMatrix{Float64}, 2, 2) # blockmatrix\n",
    "@origin S=>0 begin\n",
    "    S[0,0] = V0\n",
    "    S[1,1] = V1c\n",
    "end\n",
    "S=sparse(block(S))\n",
    "sojourn = S' * pid\n",
    "pis = sojourn / sum(sojourn);"
   ]
  },
  {
   "cell_type": "code",
   "execution_count": null,
   "metadata": {},
   "outputs": [],
   "source": [
    "# reward vector\n",
    "r0 = read(matfile, \"availG0\")\n",
    "r1 = read(matfile, \"availG1\");"
   ]
  },
  {
   "cell_type": "code",
   "execution_count": null,
   "metadata": {},
   "outputs": [],
   "source": [
    "@origin indices=>0 begin\n",
    "    savail = sum(pis[indices[0]] .* r0) + sum(pis[indices[1]] .* r1)\n",
    "end\n",
    "savail # system availability"
   ]
  },
  {
   "cell_type": "code",
   "execution_count": null,
   "metadata": {},
   "outputs": [],
   "source": []
  }
 ],
 "metadata": {
  "kernelspec": {
   "display_name": "Julia 1.0.5",
   "language": "julia",
   "name": "julia-1.0"
  },
  "language_info": {
   "file_extension": ".jl",
   "mimetype": "application/julia",
   "name": "julia",
   "version": "1.0.5"
  }
 },
 "nbformat": 4,
 "nbformat_minor": 4
}
