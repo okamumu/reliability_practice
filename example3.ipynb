{
 "cells": [
  {
   "cell_type": "markdown",
   "metadata": {},
   "source": [
    "# Example 3\n",
    "\n",
    "- The k-out-of-n system\n",
    "    - The system consists of $n$ **non-identical** compoments.\n",
    "    - The system fails when $k$ compoments are down.\n",
    "- Repairable system\n",
    "    - A failed compoment may be repaired.\n",
    "    - The repaired component is as good as new.\n",
    "- Repairperson\n",
    "    - Failed components are repaired by a single repairperson.\n",
    "    - A failed component makes a queue with **a random** discipline\n",
    "- The failure time of **i-th component** follows an exponential distribution with mean $1/\\lambda_i$.\n",
    "- The repair time for a failed component follows an exponential distribution with mean $1/\\mu$."
   ]
  },
  {
   "cell_type": "markdown",
   "metadata": {},
   "source": [
    "## Initialize\n",
    "\n",
    "Load packages"
   ]
  },
  {
   "cell_type": "code",
   "execution_count": null,
   "metadata": {},
   "outputs": [],
   "source": [
    "using Origin\n",
    "using SparseMatrix\n",
    "using NMarkov\n",
    "using JuliaDot\n",
    "using SparseArrays\n",
    "using Plots\n",
    "using MAT\n",
    "using JSON\n",
    "using Distributions\n",
    "using Random"
   ]
  },
  {
   "cell_type": "code",
   "execution_count": null,
   "metadata": {},
   "outputs": [],
   "source": [
    "# utility functions\n",
    "\n",
    "function drawfile(x)\n",
    "    data = open(x) do f\n",
    "        read(f, String)\n",
    "    end\n",
    "    draw(data) # JuliaDot.draw\n",
    "end\n",
    "\n",
    "import NMarkov.eye\n",
    "function eye(M::AbstractMatrix)\n",
    "    eye(size(M)[1])\n",
    "end\n",
    "\n",
    "function speye(M::AbstractMatrix)\n",
    "    n = size(M)[1]\n",
    "    x = [i for i = 1:n]\n",
    "    v = [1.0 for i = 1:n]\n",
    "    sparse(x, x, v)\n",
    "end"
   ]
  },
  {
   "cell_type": "markdown",
   "metadata": {},
   "source": [
    "## Build the model with SPN\n",
    "\n",
    "1. Make the SPN definition file (reliab2.spn)\n",
    "1. Draw a diagram of SPN\n",
    "1. Check the model behavior with one simulation"
   ]
  },
  {
   "cell_type": "markdown",
   "metadata": {},
   "source": [
    "### Draw a petrinet diagram"
   ]
  },
  {
   "cell_type": "code",
   "execution_count": null,
   "metadata": {},
   "outputs": [],
   "source": [
    "# generate a dot file to draw PN with gospn\n",
    "run(`./gospn view -i reliab2.spn -o tmp.dot`)\n",
    "# draw a picture with the dot file\n",
    "drawfile(\"tmp.dot\")"
   ]
  },
  {
   "cell_type": "markdown",
   "metadata": {},
   "source": [
    "### Check the model behavior"
   ]
  },
  {
   "cell_type": "code",
   "execution_count": null,
   "metadata": {},
   "outputs": [],
   "source": [
    "# set model params\n",
    "rng = MersenneTwister(1234)\n",
    "lambda = rand(rng, Uniform(0.01, 0.02), 10) # different failure rates\n",
    "mu = 1.0\n",
    "paramstring = join([\"lambda$i = $(lambda[i]); \" for i = 1:10]) * \"mu = $mu;\""
   ]
  },
  {
   "cell_type": "code",
   "execution_count": null,
   "metadata": {},
   "outputs": [],
   "source": [
    "# test the SPN model to check 30 transitions from the initial marking\n",
    "run(`./gospn test -i reliab2.spn -n 30 -p \"$paramstring\"`)"
   ]
  },
  {
   "cell_type": "markdown",
   "metadata": {},
   "source": [
    "## Construct CTMC matrices\n",
    "\n",
    "1. Analyze SPN and generate the following files\n",
    "    - A Matlab matrix file to store matrices (option: -o)\n",
    "    - A dot file to draw the marking graph (reachability graph). In the case where SPN generates a large number of states, it is better not to generate this file (option: -m)\n",
    "    - A dot file to draw the transitions between marking groups (option: -g)\n",
    "2. Construct CTMC matrices from the matrix file and a diagrm of marking group"
   ]
  },
  {
   "cell_type": "markdown",
   "metadata": {},
   "source": [
    "### Generate the marking graph"
   ]
  },
  {
   "cell_type": "code",
   "execution_count": null,
   "metadata": {},
   "outputs": [],
   "source": [
    "# generate CTMC matricies, dot files for marking and group\n",
    "run(`./gospn mark -i reliab2.spn -o result.mat -g gmark.dot -p \"$paramstring\"`)\n",
    "# read CTMC matrices\n",
    "matfile = matopen(\"result.mat\") \n",
    "# draw a picture of groups of markings\n",
    "drawfile(\"gmark.dot\")"
   ]
  },
  {
   "cell_type": "code",
   "execution_count": null,
   "metadata": {},
   "outputs": [],
   "source": [
    "# Read matrices\n",
    "G0G0E = read(matfile, \"G0G0E\")\n",
    "G0I0E = read(matfile, \"G0I0E\")\n",
    "I0G0I = read(matfile, \"I0G0I\");"
   ]
  },
  {
   "cell_type": "code",
   "execution_count": null,
   "metadata": {},
   "outputs": [],
   "source": [
    "Q = G0G0E + G0I0E * I0G0I;"
   ]
  },
  {
   "cell_type": "markdown",
   "metadata": {},
   "source": [
    "## Compute reliability measures\n",
    "- Steady-state analysis\n",
    "    1. Compute the steady-state probability vector\n",
    "    2. Compute the steady-state reward by multiplying the steady-state probability vector with a reward vector\n",
    "- Transient analysis\n",
    "    1. Compute the reward for each time point"
   ]
  },
  {
   "cell_type": "code",
   "execution_count": null,
   "metadata": {},
   "outputs": [],
   "source": [
    "# reward vector\n",
    "r = read(matfile, \"availG0\");"
   ]
  },
  {
   "cell_type": "code",
   "execution_count": null,
   "metadata": {},
   "outputs": [],
   "source": [
    "# steady-state vector\n",
    "pis, conv = stgs(Q) # GS algorithm for sparse matrix"
   ]
  },
  {
   "cell_type": "code",
   "execution_count": null,
   "metadata": {},
   "outputs": [],
   "source": [
    "savail = sum(pis .* r) # system availability"
   ]
  },
  {
   "cell_type": "code",
   "execution_count": null,
   "metadata": {},
   "outputs": [],
   "source": [
    "ts = LinRange(0, 10000, 10000) # time points\n",
    "x0 = read(matfile, \"initG0\"); # initial probability vector"
   ]
  },
  {
   "cell_type": "code",
   "execution_count": null,
   "metadata": {},
   "outputs": [],
   "source": [
    "# transient analysis\n",
    "#   irwd: instantaneous reward\n",
    "#   crwd: cumulative reward\n",
    "#   xt: the state probability vector at the end of ts\n",
    "#   cxt: the cumulative state probability vector at the end of ts\n",
    "irwd, crwd, xt, cxt = tran(Q, x0, r, ts, forward=:T)"
   ]
  },
  {
   "cell_type": "code",
   "execution_count": null,
   "metadata": {},
   "outputs": [],
   "source": [
    "plot(ts, irwd)"
   ]
  },
  {
   "cell_type": "code",
   "execution_count": null,
   "metadata": {},
   "outputs": [],
   "source": [
    "v = findall(x->x==1, r) # indices in which the system is working\n",
    "T = Q[v,v] # submatrix\n",
    "inita = x0[v]\n",
    "rwda = r[v];"
   ]
  },
  {
   "cell_type": "code",
   "execution_count": null,
   "metadata": {},
   "outputs": [],
   "source": [
    "# transient analysis\n",
    "#   irwd: instantaneous reward\n",
    "#   crwd: cumulative reward\n",
    "#   xt: the state probability vector at the end of ts\n",
    "#   cxt: the cumulative state probability vector at the end of ts\n",
    "irwd, crwd, xt, cxt = tran(T, inita, rwda, ts, forward=:T)"
   ]
  },
  {
   "cell_type": "code",
   "execution_count": null,
   "metadata": {},
   "outputs": [],
   "source": [
    "plot(ts, irwd)"
   ]
  },
  {
   "cell_type": "code",
   "execution_count": null,
   "metadata": {},
   "outputs": [],
   "source": []
  }
 ],
 "metadata": {
  "kernelspec": {
   "display_name": "Julia 1.0.5",
   "language": "julia",
   "name": "julia-1.0"
  },
  "language_info": {
   "file_extension": ".jl",
   "mimetype": "application/julia",
   "name": "julia",
   "version": "1.0.5"
  }
 },
 "nbformat": 4,
 "nbformat_minor": 4
}
