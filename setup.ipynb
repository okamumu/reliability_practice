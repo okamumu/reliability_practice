{
 "cells": [
  {
   "cell_type": "markdown",
   "metadata": {},
   "source": [
    "# Setup\n",
    "\n",
    "- Run all the cells once before executing example notebooks"
   ]
  },
  {
   "cell_type": "markdown",
   "metadata": {},
   "source": [
    "## Install for gospn\n",
    "\n",
    "- The repository: [https://github.com/okamumu/gospn](https://github.com/okamumu/gospn)\n",
    "- Build with Go or download a binary directly from [https://github.com/okamumu/gospn/releases/latest](https://github.com/okamumu/gospn/releases/latest)\n",
    "- Put the binary `gospn` to the directory"
   ]
  },
  {
   "cell_type": "code",
   "execution_count": null,
   "metadata": {},
   "outputs": [],
   "source": [
    ";wget https://github.com/okamumu/gospn/releases/download/v0.10.0/gospn-0.10.0-linux-amd64.tar.gz"
   ]
  },
  {
   "cell_type": "code",
   "execution_count": null,
   "metadata": {},
   "outputs": [],
   "source": [
    ";tar zxvf gospn-0.10.0-linux-amd64.tar.gz"
   ]
  },
  {
   "cell_type": "markdown",
   "metadata": {},
   "source": [
    "## Install Julia packages\n",
    "\n",
    "- Add some packages to compute reliability measures\n",
    "- Packages\n",
    "    - MAT: A package to read matrix files formatted by Matlab matrix format\n",
    "    - Plots: A package to draw graphs\n",
    "    - SparseArrays: A package to manupulate sparse matrix operations\n",
    "    - JSON: A package to manupilate JSON files\n",
    "    - Distributions: A package to provide mathematical functions (p.d.f., c.d.f., etc.) for statistical distributions"
   ]
  },
  {
   "cell_type": "code",
   "execution_count": null,
   "metadata": {},
   "outputs": [],
   "source": [
    "using Pkg\n",
    "Pkg.add(\"MAT\")\n",
    "Pkg.add(\"Plots\")\n",
    "Pkg.add(\"SparseArrays\")\n",
    "Pkg.add(\"JSON\")\n",
    "Pkg.add(\"Distributions\")"
   ]
  },
  {
   "cell_type": "markdown",
   "metadata": {},
   "source": [
    "## Install another Julia packages\n",
    "\n",
    "- Add some packages to compute reliability measures which are not managed by Julia repository\n",
    "- Use Pkg to install the packages. The packages are located in GitHub. Please run the following commands:\n",
    "    - For Julia 1.0.5\n",
    "```julia\n",
    "using Pkg\n",
    "Pkg.add(PackageSpec(url=\"https://github.com/JuliaReliab/Origin.jl.git\"))\n",
    "Pkg.add(PackageSpec(url=\"https://github.com/JuliaReliab/Deformula.jl.git\"))\n",
    "Pkg.add(PackageSpec(url=\"https://github.com/JuliaReliab/SparseMatrix.jl.git\"))\n",
    "...\n",
    "```\n",
    "- Packages\n",
    "    - Origin: A package to provide a macro to change indecies of arrays\n",
    "    - Deformula: A package for double exponential formulas of numerical integration\n",
    "    - SparseMatrix: A package to manupulate sparse matrix operations (this is used in NMarkov package)\n",
    "    - NMarkov: A package to provide the algorithms to obtain stationary and transient solusions of continuous-time Markov chain\n",
    "    - JuliaDot: A package to draw a diagram from DOT language"
   ]
  },
  {
   "cell_type": "code",
   "execution_count": null,
   "metadata": {},
   "outputs": [],
   "source": [
    "using Pkg\n",
    "Pkg.add(PackageSpec(url=\"https://github.com/JuliaReliab/Origin.jl.git\"))\n",
    "Pkg.add(PackageSpec(url=\"https://github.com/JuliaReliab/Deformula.jl.git\"))\n",
    "Pkg.add(PackageSpec(url=\"https://github.com/JuliaReliab/SparseMatrix.jl.git\"))\n",
    "Pkg.add(PackageSpec(url=\"https://github.com/JuliaReliab/NMarkov.jl.git\"))\n",
    "Pkg.add(PackageSpec(url=\"https://github.com/JuliaReliab/JuliaDot.jl.git\"))"
   ]
  },
  {
   "cell_type": "markdown",
   "metadata": {},
   "source": [
    "## Fix a path to dot (graphviz)\n",
    "\n",
    "- To draw a diagram from DOT, the package JuliaDot uses a binary of graphviz (dot) through PyCall\n",
    "- Fix the path of dot to use it"
   ]
  },
  {
   "cell_type": "code",
   "execution_count": null,
   "metadata": {},
   "outputs": [],
   "source": [
    "using Pkg\n",
    "ENV[\"PYTHON\"]=\"\"\n",
    "Pkg.build(\"PyCall\")"
   ]
  }
 ],
 "metadata": {
  "kernelspec": {
   "display_name": "Julia 1.0.5",
   "language": "julia",
   "name": "julia-1.0"
  },
  "language_info": {
   "file_extension": ".jl",
   "mimetype": "application/julia",
   "name": "julia",
   "version": "1.0.5"
  }
 },
 "nbformat": 4,
 "nbformat_minor": 4
}
